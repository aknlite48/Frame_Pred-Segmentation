{
 "cells": [
  {
   "cell_type": "code",
   "execution_count": null,
   "id": "dfbaa1a9",
   "metadata": {
    "id": "dfbaa1a9"
   },
   "outputs": [],
   "source": [
    "import tqdm\n",
    "import os\n",
    "from PIL import Image\n",
    "import torch\n",
    "import numpy as np\n",
    "import matplotlib.pyplot as plt\n",
    "from torchvision import transforms\n",
    "from torch.utils.data import Dataset, DataLoader\n",
    "import torch.nn as nn\n",
    "\n",
    "from torch import nn, optim\n",
    "from torch.optim import Adam\n",
    "from torch.utils.data import Dataset\n",
    "from torchsummary import summary\n",
    "import torch.optim.lr_scheduler as lr_scheduler\n",
    "import torchvision\n",
    "from ipywidgets import interact\n",
    "from rich.progress import Progress,TimeElapsedColumn,TimeRemainingColumn,BarColumn,TextColumn"
   ]
  },
  {
   "cell_type": "code",
   "execution_count": null,
   "id": "9a683eb7",
   "metadata": {
    "id": "9a683eb7"
   },
   "outputs": [],
   "source": [
    "class SegVid(Dataset):\n",
    "    def __init__(self,fpath,num):\n",
    "        self.vid = []\n",
    "        self.masks = []\n",
    "        self.imgs = []\n",
    "        dirs = sorted(os.listdir(fpath))\n",
    "        dirs = [d for d in dirs if d[0]=='v']\n",
    "        for path in tqdm.tqdm(dirs[:num]):\n",
    "            if path[0]!='v':\n",
    "                continue\n",
    "            video = []\n",
    "            for i in range(11):\n",
    "                frame_path=os.path.join(fpath,path,'image_'+str(i)+'.png')\n",
    "                frame = (transforms.ToTensor())(Image.open(frame_path).convert('RGB'))\n",
    "                video.append(frame)\n",
    "            video=torch.stack(video)\n",
    "            self.vid.append(video)\n",
    "            frame_path=os.path.join(fpath,path,'image_'+str(21)+'.png')\n",
    "            frame = (transforms.ToTensor())(Image.open(frame_path).convert('RGB'))\n",
    "            self.imgs.append(frame)\n",
    "            mask_path = os.path.join(fpath,path,'mask.npy')\n",
    "            mask = torch.Tensor(np.load(mask_path))\n",
    "            self.masks.append(mask[21])\n",
    "\n",
    "    def __len__(self):\n",
    "        return len(self.vid)\n",
    "\n",
    "    def __getitem__(self,idx):\n",
    "        return self.vid[idx],self.masks[idx]\n",
    "\n",
    "    def get_image(self,idx):\n",
    "        return self.imgs[idx],self.masks[idx]"
   ]
  },
  {
   "cell_type": "markdown",
   "id": "90326e92",
   "metadata": {},
   "source": [
    "# Load from GDrive"
   ]
  },
  {
   "cell_type": "code",
   "execution_count": null,
   "id": "0eff5601",
   "metadata": {
    "colab": {
     "base_uri": "https://localhost:8080/"
    },
    "id": "0eff5601",
    "outputId": "2b1239bf-5370-4a81-bd36-c63388dd344e"
   },
   "outputs": [
    {
     "name": "stdout",
     "output_type": "stream",
     "text": [
      "Mounted at /content/drive\n"
     ]
    }
   ],
   "source": [
    "from google.colab import drive\n",
    "drive.mount('/content/drive')\n",
    "!rm -rf __MACOSX"
   ]
  },
  {
   "cell_type": "code",
   "execution_count": null,
   "id": "0f69331a",
   "metadata": {
    "colab": {
     "base_uri": "https://localhost:8080/"
    },
    "id": "0f69331a",
    "outputId": "be8cfba2-12fa-4dde-89d7-3f97fcc2d364"
   },
   "outputs": [
    {
     "name": "stderr",
     "output_type": "stream",
     "text": [
      "100%|██████████| 1000/1000 [00:23<00:00, 42.23it/s]\n"
     ]
    }
   ],
   "source": [
    "!unzip /content/drive/MyDrive/NYU_DL_task/train.zip > /dev/null\n",
    "train_data_seg = SegVid('train',1000)\n",
    "!rm -rf train"
   ]
  },
  {
   "cell_type": "code",
   "execution_count": null,
   "id": "3bb310e0",
   "metadata": {
    "colab": {
     "base_uri": "https://localhost:8080/"
    },
    "id": "3bb310e0",
    "outputId": "cd264c40-4dfd-44da-f9f0-486f9d836d3a"
   },
   "outputs": [
    {
     "name": "stderr",
     "output_type": "stream",
     "text": [
      "100%|██████████| 998/998 [00:21<00:00, 45.48it/s]\n"
     ]
    }
   ],
   "source": [
    "!unzip /content/drive/MyDrive/NYU_DL_task/val.zip > /dev/null\n",
    "!rm -rf val/video_01370\n",
    "val_data_seg = SegVid('val',1000)\n",
    "!rm -rf val"
   ]
  },
  {
   "cell_type": "code",
   "execution_count": null,
   "id": "5575e37d",
   "metadata": {
    "id": "5575e37d"
   },
   "outputs": [],
   "source": [
    "######### SIMVP ########\n",
    "\n",
    "class BasicConv2d(nn.Module):\n",
    "    def __init__(self, in_channels, out_channels, kernel_size, stride, padding, transpose=False, act_norm=False):\n",
    "        super(BasicConv2d, self).__init__()\n",
    "        self.act_norm=act_norm\n",
    "        if not transpose:\n",
    "            self.conv = nn.Conv2d(in_channels, out_channels, kernel_size=kernel_size, stride=stride, padding=padding)\n",
    "        else:\n",
    "            self.conv = nn.ConvTranspose2d(in_channels, out_channels, kernel_size=kernel_size, stride=stride, padding=padding,output_padding=stride //2 )\n",
    "        self.norm = nn.GroupNorm(2, out_channels)\n",
    "        self.act = nn.LeakyReLU(0.2, inplace=True)\n",
    "\n",
    "    def forward(self, x):\n",
    "        y = self.conv(x)\n",
    "        if self.act_norm:\n",
    "            y = self.act(self.norm(y))\n",
    "        return y\n",
    "\n",
    "\n",
    "class ConvSC(nn.Module):\n",
    "    def __init__(self, C_in, C_out, stride, transpose=False, act_norm=True):\n",
    "        super(ConvSC, self).__init__()\n",
    "        if stride == 1:\n",
    "            transpose = False\n",
    "        self.conv = BasicConv2d(C_in, C_out, kernel_size=3, stride=stride,\n",
    "                                padding=1, transpose=transpose, act_norm=act_norm)\n",
    "\n",
    "    def forward(self, x):\n",
    "        y = self.conv(x)\n",
    "        return y\n",
    "\n",
    "\n",
    "class GroupConv2d(nn.Module):\n",
    "    def __init__(self, in_channels, out_channels, kernel_size, stride, padding, groups, act_norm=False):\n",
    "        super(GroupConv2d, self).__init__()\n",
    "        self.act_norm = act_norm\n",
    "        if in_channels % groups != 0:\n",
    "            groups = 1\n",
    "        self.conv = nn.Conv2d(in_channels, out_channels, kernel_size=kernel_size, stride=stride, padding=padding,groups=groups)\n",
    "        self.norm = nn.GroupNorm(groups,out_channels)\n",
    "        self.activate = nn.LeakyReLU(0.2, inplace=True)\n",
    "\n",
    "    def forward(self, x):\n",
    "        y = self.conv(x)\n",
    "        if self.act_norm:\n",
    "            y = self.activate(self.norm(y))\n",
    "        return y\n",
    "\n",
    "\n",
    "class Inception(nn.Module):\n",
    "    def __init__(self, C_in, C_hid, C_out, incep_ker=[3,5,7,11], groups=8):\n",
    "        super(Inception, self).__init__()\n",
    "        self.conv1 = nn.Conv2d(C_in, C_hid, kernel_size=1, stride=1, padding=0)\n",
    "        layers = []\n",
    "        for ker in incep_ker:\n",
    "            layers.append(GroupConv2d(C_hid, C_out, kernel_size=ker, stride=1, padding=ker//2, groups=groups, act_norm=True))\n",
    "        self.layers = nn.Sequential(*layers)\n",
    "\n",
    "    def forward(self, x):\n",
    "        x = self.conv1(x)\n",
    "        y = 0\n",
    "        for layer in self.layers:\n",
    "            y += layer(x)\n",
    "        return y\n",
    "\n",
    "        x = x.reshape(B, T*C, H, W)\n",
    "\n",
    "        # encoder\n",
    "        skips = []\n",
    "        z = x\n",
    "        for i in range(self.N_T):\n",
    "            z = self.enc[i](z)\n",
    "            if i < self.N_T - 1:\n",
    "                skips.append(z)\n",
    "\n",
    "        # decoder\n",
    "        z = self.dec[0](z)\n",
    "        for i in range(1, self.N_T):\n",
    "            z = self.dec[i](torch.cat([z, skips[-i]], dim=1))\n",
    "\n",
    "        y = z.reshape(B, T, C, H, W)\n",
    "        return y\n",
    "\n",
    "def stride_generator(N, reverse=False):\n",
    "    strides = [1, 2]*10\n",
    "    if reverse: return list(reversed(strides[:N]))\n",
    "    else: return strides[:N]\n",
    "\n",
    "class Encoder(nn.Module):\n",
    "    def __init__(self,C_in, C_hid, N_S):\n",
    "        super(Encoder,self).__init__()\n",
    "        strides = stride_generator(N_S)\n",
    "        self.enc = nn.Sequential(\n",
    "            ConvSC(C_in, C_hid, stride=strides[0]),\n",
    "            *[ConvSC(C_hid, C_hid, stride=s) for s in strides[1:]]\n",
    "        )\n",
    "\n",
    "    def forward(self,x):# B*4, 3, 128, 128\n",
    "        enc1 = self.enc[0](x)\n",
    "        latent = enc1\n",
    "        for i in range(1,len(self.enc)):\n",
    "            latent = self.enc[i](latent)\n",
    "        return latent,enc1\n",
    "\n",
    "\n",
    "class Decoder(nn.Module):\n",
    "    def __init__(self,C_hid, C_out, N_S):\n",
    "        super(Decoder,self).__init__()\n",
    "        strides = stride_generator(N_S, reverse=True)\n",
    "        self.dec = nn.Sequential(\n",
    "            *[ConvSC(C_hid, C_hid, stride=s, transpose=True) for s in strides[:-1]],\n",
    "            ConvSC(2*C_hid, C_hid, stride=strides[-1], transpose=True)\n",
    "        )\n",
    "        self.readout = nn.Conv2d(C_hid, C_out, 1)\n",
    "\n",
    "    def forward(self, hid, enc1=None):\n",
    "        for i in range(0,len(self.dec)-1):\n",
    "            hid = self.dec[i](hid)\n",
    "        Y = self.dec[-1](torch.cat([hid, enc1], dim=1))\n",
    "        Y = self.readout(Y)\n",
    "        return Y\n",
    "\n",
    "class Mid_Xnet(nn.Module):\n",
    "    def __init__(self, channel_in, channel_hid, N_T, incep_ker = [3,5,7,11], groups=8):\n",
    "        super(Mid_Xnet, self).__init__()\n",
    "\n",
    "        self.N_T = N_T\n",
    "        enc_layers = [Inception(channel_in, channel_hid//2, channel_hid, incep_ker= incep_ker, groups=groups)]\n",
    "        for i in range(1, N_T-1):\n",
    "            enc_layers.append(Inception(channel_hid, channel_hid//2, channel_hid, incep_ker= incep_ker, groups=groups))\n",
    "        enc_layers.append(Inception(channel_hid, channel_hid//2, channel_hid, incep_ker= incep_ker, groups=groups))\n",
    "\n",
    "        dec_layers = [Inception(channel_hid, channel_hid//2, channel_hid, incep_ker= incep_ker, groups=groups)]\n",
    "        for i in range(1, N_T-1):\n",
    "            dec_layers.append(Inception(2*channel_hid, channel_hid//2, channel_hid, incep_ker= incep_ker, groups=groups))\n",
    "        dec_layers.append(Inception(2*channel_hid, channel_hid//2, channel_in, incep_ker= incep_ker, groups=groups))\n",
    "\n",
    "        self.enc = nn.Sequential(*enc_layers)\n",
    "        self.dec = nn.Sequential(*dec_layers)\n",
    "\n",
    "    def forward(self, x):\n",
    "        B, T, C, H, W = x.shape\n",
    "        x = x.reshape(B, T*C, H, W)\n",
    "\n",
    "        # encoder\n",
    "        skips = []\n",
    "        z = x\n",
    "        for i in range(self.N_T):\n",
    "            z = self.enc[i](z)\n",
    "            if i < self.N_T - 1:\n",
    "                skips.append(z)\n",
    "\n",
    "        # decoder\n",
    "        z = self.dec[0](z)\n",
    "        for i in range(1, self.N_T):\n",
    "            z = self.dec[i](torch.cat([z, skips[-i]], dim=1))\n",
    "\n",
    "        y = z.reshape(B, T, C, H, W)\n",
    "        return y\n",
    "\n",
    "\n",
    "class SimVP(nn.Module):\n",
    "    def __init__(self, shape_in, hid_S=16, hid_T=256, N_S=4, N_T=8, incep_ker=[3,5,7,11], groups=8):\n",
    "        super(SimVP, self).__init__()\n",
    "        T, C, H, W = shape_in\n",
    "        self.enc = Encoder(C, hid_S, N_S)\n",
    "        self.hid = Mid_Xnet(T*hid_S, hid_T, N_T, incep_ker, groups)\n",
    "        self.dec = Decoder(hid_S, C, N_S)\n",
    "\n",
    "\n",
    "    def forward(self, x_raw):\n",
    "        B, T, C, H, W = x_raw.shape\n",
    "        x = x_raw.view(B*T, C, H, W)\n",
    "\n",
    "        embed, skip = self.enc(x)\n",
    "        _, C_, H_, W_ = embed.shape\n",
    "\n",
    "        z = embed.view(B, T, C_, H_, W_)\n",
    "        hid = self.hid(z)\n",
    "        hid = hid.reshape(B*T, C_, H_, W_)\n",
    "\n",
    "        Y = self.dec(hid, skip)\n",
    "        Y = Y.reshape(B, T, C, H, W)\n",
    "        return Y\n",
    "\n",
    "########## UNET ############\n",
    "class CONVB(nn.Module):\n",
    "    def __init__(self, input_channels, output_channels):\n",
    "        super().__init__()\n",
    "        self.pass1 = nn.Sequential(nn.Conv2d(input_channels, output_channels, kernel_size=3, padding=1),\n",
    "                                  nn.BatchNorm2d(output_channels),\n",
    "                                  nn.Conv2d(output_channels, output_channels, kernel_size=3, padding=1),\n",
    "                                  nn.BatchNorm2d(output_channels),\n",
    "                                  nn.ReLU())\n",
    "    def forward(self, inputs):\n",
    "        return self.pass1(inputs)\n",
    "\n",
    "class UP(nn.Module):\n",
    "    def __init__(self, input_channels, output_channels):\n",
    "        super().__init__()\n",
    "        self.pass1 = CONVB(input_channels, output_channels)\n",
    "        self.pass2 = nn.MaxPool2d((2, 2))\n",
    "\n",
    "    def forward(self, inputs):\n",
    "        x = self.pass1(inputs)\n",
    "        y = self.pass2(x)\n",
    "        return (x,y)\n",
    "\n",
    "class DOWN(nn.Module):\n",
    "    def __init__(self, input_channels, output_channels):\n",
    "        super().__init__()\n",
    "\n",
    "        self.pass1 = nn.ConvTranspose2d(input_channels, output_channels, kernel_size=2, stride=2, padding=0)\n",
    "        self.pass2 = CONVB(output_channels+output_channels, output_channels)\n",
    "\n",
    "\n",
    "    def forward(self, inputs, aux):\n",
    "        x = self.pass1(inputs)\n",
    "        x = torch.cat([x, aux], axis=1)\n",
    "        x = self.pass2(x)\n",
    "\n",
    "        return x\n",
    "\n",
    "class OUTC(nn.Module):\n",
    "    def __init__(self, input_channels, output_channels):\n",
    "        super().__init__()\n",
    "        self.pass1 = nn.Conv2d(input_channels, output_channels, kernel_size=1, padding=0)\n",
    "\n",
    "    def forward(self, inputs):\n",
    "        return self.pass1(inputs)\n",
    "\n",
    "class UPSTREAM(nn.Module):\n",
    "    def __init__(self, input_channels,mc1,mc2,mc3,con1,output_channels):\n",
    "        super().__init__()\n",
    "\n",
    "        self.pass1 = UP(input_channels,mc1)\n",
    "        self.pass2 = UP(mc1,mc2)\n",
    "        self.pass3 = UP(mc2,mc3)\n",
    "        self.pass4 = UP(mc3,con1)\n",
    "        self.pass5 = CONVB(con1,output_channels)\n",
    "\n",
    "    def forward(self, inputs):\n",
    "        x1,y1 = self.pass1(inputs)\n",
    "        x2,y2 = self.pass2(y1)\n",
    "        x3,y3 = self.pass3(y2)\n",
    "        x4,y4 = self.pass4(y3)\n",
    "        z = self.pass5(y4)\n",
    "        return z,x1,x2,x3,x4\n",
    "\n",
    "class DOWNSTREAM(nn.Module):\n",
    "    def __init__(self, input_channels,mc1,mc2,mc3,output_channels):\n",
    "        super().__init__()\n",
    "        self.d1 = DOWN(input_channels, mc1)\n",
    "        self.d2 = DOWN(mc1, mc2)\n",
    "        self.d3 = DOWN(mc2, mc3)\n",
    "        self.d4 = DOWN(mc3, output_channels)\n",
    "\n",
    "    def forward(self,a,b,c,d,e):\n",
    "        x1 = self.d1(a,e)\n",
    "        x2 = self.d2(x1,d)\n",
    "        x3 = self.d3(x2,c)\n",
    "        x4 = self.d4(x3,b)\n",
    "        return x4\n",
    "\n",
    "\n",
    "class UNet(nn.Module):\n",
    "    def __init__(self):\n",
    "        super().__init__()\n",
    "\n",
    "        self.pass1 = UPSTREAM(3,64,128,256,512,1024)\n",
    "        self.pass2 = DOWNSTREAM(1024,512,256,128,64)\n",
    "        self.pass3 = OUTC(64,49)\n",
    "\n",
    "    def forward(self, inputs):\n",
    "        x,y1,y2,y3,y4 = self.pass1(inputs)\n",
    "        x = self.pass2(x,y1,y2,y3,y4)\n",
    "        x = self.pass3(x)\n",
    "        return x"
   ]
  },
  {
   "cell_type": "code",
   "execution_count": null,
   "id": "25f3e770",
   "metadata": {
    "id": "25f3e770"
   },
   "outputs": [],
   "source": [
    "class vdU_pred(nn.Module):\n",
    "    def __init__(self):\n",
    "        super(vdU_pred, self).__init__()\n",
    "        self.vp = SimVP((11,3,160,240))\n",
    "        self.un = UNet()\n",
    "\n",
    "    def forward(self,x):\n",
    "        pred_vid = self.vp(x)\n",
    "        seg = self.un(pred_vid[:,10,:,:,:])\n",
    "        return seg\n",
    "\n",
    "    def fix_vp(self):\n",
    "        for param in self.vp.parameters():\n",
    "            param.requires_grad = False\n",
    "\n",
    "    def fix_un(self):\n",
    "        for param in self.un.parameters():\n",
    "            param.requires_grad = False\n",
    "\n",
    "    def unfix_vp(self):\n",
    "        for param in self.vp.parameters():\n",
    "            param.requires_grad = True\n",
    "\n",
    "    def unfix_un(self):\n",
    "        for param in self.un.parameters():\n",
    "            param.requires_grad = True\n",
    "\n",
    "    def load_weights(self,fpathv,fpathu,device):\n",
    "        PATH = fpathv\n",
    "        self.vp.load_state_dict(torch.load(PATH,map_location=device))\n",
    "        PATH = fpathu\n",
    "        self.un.load_state_dict(torch.load(PATH,map_location=device))"
   ]
  },
  {
   "cell_type": "code",
   "execution_count": null,
   "id": "05cd91fd",
   "metadata": {
    "id": "05cd91fd"
   },
   "outputs": [],
   "source": [
    "batch_size=16\n",
    "train_loader = DataLoader(train_data_seg, shuffle=True, batch_size=batch_size)"
   ]
  },
  {
   "cell_type": "code",
   "execution_count": null,
   "id": "zVgJxU0Xe6Do",
   "metadata": {
    "id": "zVgJxU0Xe6Do"
   },
   "outputs": [],
   "source": [
    "batch_size=16\n",
    "val_loader = DataLoader(val_data_seg, shuffle=True, batch_size=batch_size)"
   ]
  },
  {
   "cell_type": "code",
   "execution_count": null,
   "id": "vhkHLuwQJSsv",
   "metadata": {
    "id": "vhkHLuwQJSsv"
   },
   "outputs": [],
   "source": [
    "def iou(pred, target, n_classes):\n",
    "    # pred and target shapes are (batch_size, 1, H, W)\n",
    "    ious = []\n",
    "    pred = pred.view(-1)\n",
    "    target = target.view(-1)\n",
    "\n",
    "    for cls in range(n_classes):\n",
    "        pred_inds = pred == cls\n",
    "        target_inds = target == cls\n",
    "        intersection = (pred_inds[target_inds]).long().sum().item()\n",
    "        union = pred_inds.long().sum().item() + target_inds.long().sum().item() - intersection\n",
    "        if union == 0:\n",
    "            ious.append(float('nan'))\n",
    "        else:\n",
    "            ious.append(float(intersection) / union)\n",
    "\n",
    "\n",
    "    ious = [x for x in ious if not np.isnan(x)]\n",
    "    if len(ious) == 0:\n",
    "        return float('nan')\n",
    "    return np.mean(ious)"
   ]
  },
  {
   "cell_type": "markdown",
   "id": "WhX1YzWPuDbk",
   "metadata": {
    "id": "WhX1YzWPuDbk"
   },
   "source": [
    "# UnFixed video predictor"
   ]
  },
  {
   "cell_type": "code",
   "execution_count": null,
   "id": "ak5zwfv0tzmD",
   "metadata": {
    "colab": {
     "base_uri": "https://localhost:8080/"
    },
    "id": "ak5zwfv0tzmD",
    "outputId": "8418561b-f974-4e5b-e091-e042e814d03d"
   },
   "outputs": [
    {
     "name": "stderr",
     "output_type": "stream",
     "text": [
      "<ipython-input-12-c5810cfb72ed>:9: FutureWarning: You are using `torch.load` with `weights_only=False` (the current default value), which uses the default pickle module implicitly. It is possible to construct malicious pickle data which will execute arbitrary code during unpickling (See https://github.com/pytorch/pytorch/blob/main/SECURITY.md#untrusted-models for more details). In a future release, the default value for `weights_only` will be flipped to `True`. This limits the functions that could be executed during unpickling. Arbitrary objects will no longer be allowed to be loaded via this mode unless they are explicitly allowlisted by the user via `torch.serialization.add_safe_globals`. We recommend you start setting `weights_only=True` for any use case where you don't have full control of the loaded file. Please open an issue on GitHub for any issues related to this experimental feature.\n",
      "  model.load_state_dict(torch.load('/content/drive/MyDrive/NYU_DL_task/weights1/epoch300',map_location=device))\n"
     ]
    }
   ],
   "source": [
    "device = torch.device('cuda' if torch.cuda.is_available() else 'cpu')\n",
    "model = vdU_pred().to(device)\n",
    "\n",
    "#first run\n",
    "#model.load_weights('/content/drive/MyDrive/NYU_DL_task/weights/SimVP_w','/content/drive/MyDrive/NYU_DL_task/weights/UNet_w',device) #deprecated do not uncomment\n",
    "#model.fix_vp() # do not comment\n",
    "\n",
    "#optional later runs\n",
    "model.load_state_dict(torch.load('/content/drive/MyDrive/NYU_DL_task/weights1/epoch300',map_location=device))\n",
    "\n",
    "optim = Adam(model.parameters(), lr=1e-4)\n",
    "\n",
    "# Binary Cross Entropy, target pixel values either 0 or 1\n",
    "criterion = nn.CrossEntropyLoss()"
   ]
  },
  {
   "cell_type": "markdown",
   "id": "0bc0080b",
   "metadata": {
    "id": "0bc0080b"
   },
   "source": [
    "# Model Training"
   ]
  },
  {
   "cell_type": "code",
   "execution_count": null,
   "id": "f2db349e",
   "metadata": {
    "colab": {
     "base_uri": "https://localhost:8080/",
     "height": 65,
     "referenced_widgets": [
      "e3082a539e044ac9b45472bae5ebb5fe",
      "ee908c5a6bf1466a90fb8d8c02a5592d"
     ]
    },
    "id": "f2db349e",
    "outputId": "2748a62e-7991-492c-c113-66807c671054"
   },
   "outputs": [
    {
     "data": {
      "application/vnd.jupyter.widget-view+json": {
       "model_id": "e3082a539e044ac9b45472bae5ebb5fe",
       "version_major": 2,
       "version_minor": 0
      },
      "text/plain": [
       "Output()"
      ]
     },
     "metadata": {},
     "output_type": "display_data"
    },
    {
     "data": {
      "text/html": [
       "<pre style=\"white-space:pre;overflow-x:auto;line-height:normal;font-family:Menlo,'DejaVu Sans Mono',consolas,'Courier New',monospace\"></pre>\n"
      ],
      "text/plain": []
     },
     "metadata": {},
     "output_type": "display_data"
    }
   ],
   "source": [
    "num_epochs = 100\n",
    "train_loss_list = []\n",
    "val_loss_list = []\n",
    "train_iou_list = []\n",
    "val_iou_list = []\n",
    "with Progress(TextColumn(\"{task.description}\"),BarColumn(),TimeElapsedColumn(),TimeRemainingColumn()) as pb:\n",
    "    t1 = pb.add_task('Training',total=len(train_loader))\n",
    "    t2 = pb.add_task('Validation',total=len(val_loader))\n",
    "    t3 = pb.add_task('Epoch',total=num_epochs)\n",
    "    val_check=False\n",
    "\n",
    "    for epoch in range(num_epochs):\n",
    "        net_train_iou = 0\n",
    "        tot_train_loss = 0\n",
    "        inner_iter = 0\n",
    "        model.train()\n",
    "        for batch in train_loader:\n",
    "            data,target = [x.to(device) for x in batch]\n",
    "            pred = model(data)\n",
    "            IOU = iou(torch.argmax(pred,dim=1), target,49)\n",
    "            net_train_iou+=IOU\n",
    "            loss = criterion(pred,target.long())\n",
    "            loss.backward()\n",
    "            optim.step()\n",
    "            optim.zero_grad()\n",
    "            cur_loss = loss.item()\n",
    "            tot_train_loss += cur_loss\n",
    "            pb.update(t1,completed=inner_iter+1,description=f'Training Batch: {(inner_iter+1)}/{len(train_loader)} Loss: {round(cur_loss,5)} IOU: {round(IOU,5)}')\n",
    "            inner_iter += 1\n",
    "\n",
    "\n",
    "        if (epoch+1)%10==0:  #validation every 10 epochs\n",
    "            model.eval()\n",
    "            inner_iter = 0\n",
    "            val_check=True\n",
    "            tot_val_loss = 0\n",
    "            net_val_iou=0\n",
    "\n",
    "\n",
    "            for batch in val_loader:\n",
    "                data,target = [x.to(device) for x in batch]\n",
    "                with torch.no_grad():\n",
    "                    pred = model(data)\n",
    "                    IOU = iou(torch.argmax(pred,dim=1), target,49)\n",
    "                    net_val_iou+=IOU\n",
    "                    loss = criterion(pred,target.long())\n",
    "                cur_loss = loss.item()\n",
    "                tot_val_loss += cur_loss\n",
    "                pb.update(t2,completed=inner_iter+1,description=f'Validation Batch: {(inner_iter+1)}/{len(val_loader)} Loss: {round(cur_loss,5)} IOU: {round(IOU,5)}')\n",
    "                inner_iter += 1\n",
    "            val_loss_list.append(tot_val_loss/len(val_loader))\n",
    "            val_iou_list.append(net_val_iou/len(val_loader))\n",
    "        if val_check:\n",
    "            pb.update(t3,completed=epoch+1,description=f'Epoch: {(epoch+1)} Loss: {round(tot_train_loss/len(train_loader),5)} IOU: {round((net_train_iou)/len(train_loader),5)} VLoss: {round(tot_val_loss/len(val_loader),5)} VIOU: {round((net_val_iou)/len(val_loader),5)}')\n",
    "        else:\n",
    "            pb.update(t3,completed=epoch+1,description=f'Epoch: {(epoch+1)} Loss: {round(tot_train_loss/len(train_loader),5)} IOU: {round((net_train_iou)/len(train_loader),5)} VLoss: -- VIOU: --')\n",
    "        train_loss_list.append(tot_train_loss/len(train_loader))\n",
    "        train_iou_list.append(net_train_iou/len(train_loader))\n",
    "\n",
    "    pb.refresh()"
   ]
  },
  {
   "cell_type": "code",
   "execution_count": null,
   "id": "5a810897",
   "metadata": {
    "id": "5a810897"
   },
   "outputs": [],
   "source": [
    "model_save_name = 'epoch'+str(500)\n",
    "#if 'weights' not in os.listdir():\n",
    "#    os.mkdir('weights')\n",
    "#PATH = F\"weights/{model_save_name}\"\n",
    "PATH = F\"/content/drive/MyDrive/NYU_DL_task/weights1/{model_save_name}\"\n",
    "torch.save(model.state_dict(), PATH)"
   ]
  },
  {
   "cell_type": "markdown",
   "id": "1f535c28",
   "metadata": {
    "id": "1f535c28"
   },
   "source": [
    "# Visualise performance | 100 epochs"
   ]
  },
  {
   "cell_type": "code",
   "execution_count": null,
   "id": "b58f5ccd",
   "metadata": {
    "colab": {
     "base_uri": "https://localhost:8080/",
     "height": 427
    },
    "id": "b58f5ccd",
    "outputId": "237c4751-f1cf-4d4d-df96-fc3c2d413181"
   },
   "outputs": [
    {
     "data": {
      "text/plain": [
       "<matplotlib.legend.Legend at 0x7ce4e1176f50>"
      ]
     },
     "execution_count": 53,
     "metadata": {},
     "output_type": "execute_result"
    },
    {
     "data": {
      "image/png": "[encoded data removed]",
      "text/plain": [
       "<Figure size 1000x400 with 2 Axes>"
      ]
     },
     "metadata": {},
     "output_type": "display_data"
    }
   ],
   "source": [
    "fig, (ax1,ax2) = plt.subplots(1,2,figsize=(10,4))\n",
    "#plt.xticks(ax1,range(0,len(train_loss_list),5))\n",
    "\n",
    "#ax1.set_xticklabels(range(0,len(train_loss_list),5))\n",
    "ax1.plot(np.arange(0,len(train_loss_list),1),train_loss_list,label='Train')\n",
    "ax1.plot(np.arange(0,10*len(val_loss_list),10),val_loss_list,label='Val')\n",
    "ax1.set_xticks(range(0,len(train_loss_list)+1,20))\n",
    "ax1.set_title('Loss vs Epoch')\n",
    "ax1.set_xlabel('Epoch')\n",
    "ax1.legend()\n",
    "\n",
    "plt.xticks(range(0,len(train_loss_list),5))\n",
    "ax2.plot(np.arange(0,len(train_iou_list),1),train_iou_list,label=\"Train\")\n",
    "ax2.plot(np.arange(0,10*len(val_iou_list),10),val_iou_list,label=\"Val\")\n",
    "ax2.set_xticks(range(0,len(train_iou_list)+1,20))\n",
    "ax2.set_title('IOU vs Epoch')\n",
    "ax2.set_xlabel('Epoch')\n",
    "ax2.legend()"
   ]
  },
  {
   "cell_type": "markdown",
   "id": "54b969cd",
   "metadata": {},
   "source": [
    "# 500 epochs"
   ]
  },
  {
   "cell_type": "code",
   "execution_count": null,
   "id": "9pEe1rMsO-bv",
   "metadata": {
    "colab": {
     "base_uri": "https://localhost:8080/",
     "height": 427
    },
    "id": "9pEe1rMsO-bv",
    "outputId": "36a41163-1346-4f32-add0-08077993b857"
   },
   "outputs": [
    {
     "data": {
      "text/plain": [
       "<matplotlib.legend.Legend at 0x7f47a24a1f30>"
      ]
     },
     "execution_count": 16,
     "metadata": {},
     "output_type": "execute_result"
    },
    {
     "data": {
      "image/png": "[encoded data removed]",
      "text/plain": [
       "<Figure size 1000x400 with 2 Axes>"
      ]
     },
     "metadata": {},
     "output_type": "display_data"
    }
   ],
   "source": [
    "fig, (ax1,ax2) = plt.subplots(1,2,figsize=(10,4))\n",
    "#plt.xticks(ax1,range(0,len(train_loss_list),5))\n",
    "\n",
    "#ax1.set_xticklabels(range(0,len(train_loss_list),5))\n",
    "ax1.plot(np.arange(0,len(train_loss_list),1),train_loss_list,label='Train')\n",
    "ax1.plot(np.arange(0,10*len(val_loss_list),10),val_loss_list,label='Val')\n",
    "ax1.set_xticks(range(0,len(train_loss_list)+1,100))\n",
    "ax1.set_title('Loss vs Epoch')\n",
    "ax1.set_xlabel('Epoch')\n",
    "ax1.legend()\n",
    "\n",
    "ax2.plot(np.arange(0,len(train_iou_list),1),train_iou_list,label=\"Train\")\n",
    "ax2.plot(np.arange(0,10*len(val_iou_list),10),val_iou_list,label=\"Val\")\n",
    "ax2.set_xticks(range(0,len(train_iou_list)+1,100))\n",
    "ax2.set_title('IOU vs Epoch')\n",
    "ax2.set_xlabel('Epoch')\n",
    "ax2.legend()"
   ]
  }
 ],
 "metadata": {
  "colab": {
   "machine_shape": "hm",
   "provenance": []
  },
  "kernelspec": {
   "display_name": "Python 3 (ipykernel)",
   "language": "python",
   "name": "python3"
  },
  "language_info": {
   "codemirror_mode": {
    "name": "ipython",
    "version": 3
   },
   "file_extension": ".py",
   "mimetype": "text/x-python",
   "name": "python",
   "nbconvert_exporter": "python",
   "pygments_lexer": "ipython3",
   "version": "3.11.7"
  },
  "widgets": {
   "application/vnd.jupyter.widget-state+json": {
    "e3082a539e044ac9b45472bae5ebb5fe": {
     "model_module": "@jupyter-widgets/output",
     "model_module_version": "1.0.0",
     "model_name": "OutputModel",
     "state": {
      "_dom_classes": [],
      "_model_module": "@jupyter-widgets/output",
      "_model_module_version": "1.0.0",
      "_model_name": "OutputModel",
      "_view_count": null,
      "_view_module": "@jupyter-widgets/output",
      "_view_module_version": "1.0.0",
      "_view_name": "OutputView",
      "layout": "IPY_MODEL_ee908c5a6bf1466a90fb8d8c02a5592d",
      "msg_id": "",
      "outputs": [
       {
        "data": {
         "text/html": "<pre style=\"white-space:pre;overflow-x:auto;line-height:normal;font-family:Menlo,'DejaVu Sans Mono',consolas,'Courier New',monospace\">Training Batch: 63/63 Loss: 0.00146 IOU: 0.9881                    <span style=\"color: #729c1f; text-decoration-color: #729c1f\">━━━━━━━━━━━━━━━━━━━━━━━━━━━━━━━━</span> <span style=\"color: #808000; text-decoration-color: #808000\">0:00:25</span> <span style=\"color: #008080; text-decoration-color: #008080\">0:00:00</span>\nValidation Batch: 63/63 Loss: 0.72305 IOU: 0.13085                 <span style=\"color: #729c1f; text-decoration-color: #729c1f\">━━━━━━━━━━━━━━━━━━━━━━━━━━━━━━━━</span> <span style=\"color: #808000; text-decoration-color: #808000\">0:04:27</span> <span style=\"color: #008080; text-decoration-color: #008080\">0:00:00</span>\nEpoch: 100 Loss: 0.00118 IOU: 0.98927 VLoss: 0.68539 VIOU: 0.17371 <span style=\"color: #729c1f; text-decoration-color: #729c1f\">━━━━━━━━━━━━━━━━━━━━━━━━━━━━━━━━</span> <span style=\"color: #808000; text-decoration-color: #808000\">0:44:45</span> <span style=\"color: #008080; text-decoration-color: #008080\">0:00:00</span>\n</pre>\n",
         "text/plain": "Training Batch: 63/63 Loss: 0.00146 IOU: 0.9881                    \u001b[38;2;114;156;31m━━━━━━━━━━━━━━━━━━━━━━━━━━━━━━━━\u001b[0m \u001b[33m0:00:25\u001b[0m \u001b[36m0:00:00\u001b[0m\nValidation Batch: 63/63 Loss: 0.72305 IOU: 0.13085                 \u001b[38;2;114;156;31m━━━━━━━━━━━━━━━━━━━━━━━━━━━━━━━━\u001b[0m \u001b[33m0:04:27\u001b[0m \u001b[36m0:00:00\u001b[0m\nEpoch: 100 Loss: 0.00118 IOU: 0.98927 VLoss: 0.68539 VIOU: 0.17371 \u001b[38;2;114;156;31m━━━━━━━━━━━━━━━━━━━━━━━━━━━━━━━━\u001b[0m \u001b[33m0:44:45\u001b[0m \u001b[36m0:00:00\u001b[0m\n"
        },
        "metadata": {},
        "output_type": "display_data"
       }
      ]
     }
    },
    "ee908c5a6bf1466a90fb8d8c02a5592d": {
     "model_module": "@jupyter-widgets/base",
     "model_module_version": "1.2.0",
     "model_name": "LayoutModel",
     "state": {
      "_model_module": "@jupyter-widgets/base",
      "_model_module_version": "1.2.0",
      "_model_name": "LayoutModel",
      "_view_count": null,
      "_view_module": "@jupyter-widgets/base",
      "_view_module_version": "1.2.0",
      "_view_name": "LayoutView",
      "align_content": null,
      "align_items": null,
      "align_self": null,
      "border": null,
      "bottom": null,
      "display": null,
      "flex": null,
      "flex_flow": null,
      "grid_area": null,
      "grid_auto_columns": null,
      "grid_auto_flow": null,
      "grid_auto_rows": null,
      "grid_column": null,
      "grid_gap": null,
      "grid_row": null,
      "grid_template_areas": null,
      "grid_template_columns": null,
      "grid_template_rows": null,
      "height": null,
      "justify_content": null,
      "justify_items": null,
      "left": null,
      "margin": null,
      "max_height": null,
      "max_width": null,
      "min_height": null,
      "min_width": null,
      "object_fit": null,
      "object_position": null,
      "order": null,
      "overflow": null,
      "overflow_x": null,
      "overflow_y": null,
      "padding": null,
      "right": null,
      "top": null,
      "visibility": null,
      "width": null
     }
    }
   }
  }
 },
 "nbformat": 4,
 "nbformat_minor": 5
}
