{
 "cells": [
  {
   "cell_type": "code",
   "execution_count": 1,
   "id": "dfbaa1a9",
   "metadata": {
    "id": "dfbaa1a9"
   },
   "outputs": [],
   "source": [
    "import tqdm\n",
    "import os\n",
    "from PIL import Image\n",
    "import torch\n",
    "import numpy as np\n",
    "import matplotlib.pyplot as plt\n",
    "from torchvision import transforms\n",
    "from torch.utils.data import Dataset, DataLoader\n",
    "import torch.nn as nn\n",
    "\n",
    "from torch import nn, optim\n",
    "from torch.optim import Adam\n",
    "from torch.utils.data import Dataset\n",
    "from torchsummary import summary\n",
    "import torch.optim.lr_scheduler as lr_scheduler\n",
    "import torchvision\n",
    "from ipywidgets import interact\n",
    "from rich.progress import Progress,TimeElapsedColumn,TimeRemainingColumn,BarColumn,TextColumn\n",
    "\n",
    "from model_code import vdU_pred,SimVP\n",
    "from data_struct import SegVid\n",
    "from visualise import iou,gif_gen"
   ]
  },
  {
   "cell_type": "code",
   "execution_count": 4,
   "id": "0f69331a",
   "metadata": {
    "colab": {
     "base_uri": "https://localhost:8080/"
    },
    "id": "0f69331a",
    "outputId": "be8cfba2-12fa-4dde-89d7-3f97fcc2d364"
   },
   "outputs": [
    {
     "name": "stderr",
     "output_type": "stream",
     "text": [
      "100%|██████████| 1000/1000 [00:23<00:00, 42.23it/s]\n"
     ]
    }
   ],
   "source": [
    "train_data_seg = SegVid('train',1000)"
   ]
  },
  {
   "cell_type": "code",
   "execution_count": 5,
   "id": "3bb310e0",
   "metadata": {
    "colab": {
     "base_uri": "https://localhost:8080/"
    },
    "id": "3bb310e0",
    "outputId": "cd264c40-4dfd-44da-f9f0-486f9d836d3a"
   },
   "outputs": [
    {
     "name": "stderr",
     "output_type": "stream",
     "text": [
      "100%|██████████| 998/998 [00:21<00:00, 45.48it/s]\n"
     ]
    }
   ],
   "source": [
    "val_data_seg = SegVid('val',1000)"
   ]
  },
  {
   "cell_type": "markdown",
   "id": "WhX1YzWPuDbk",
   "metadata": {
    "id": "WhX1YzWPuDbk"
   },
   "source": [
    "# UnFixed video predictor"
   ]
  },
  {
   "cell_type": "code",
   "execution_count": 4,
   "id": "ak5zwfv0tzmD",
   "metadata": {
    "colab": {
     "base_uri": "https://localhost:8080/"
    },
    "id": "ak5zwfv0tzmD",
    "outputId": "8418561b-f974-4e5b-e091-e042e814d03d"
   },
   "outputs": [],
   "source": [
    "device = torch.device('cuda' if torch.cuda.is_available() else 'cpu')\n",
    "model = vdU_pred().to(device)\n",
    "\n",
    "#first run\n",
    "#model.load_weights('weights/SimVP_w','weights/UNet_w',device) \n",
    "#model.fix_vp() # do not comment\n",
    "\n",
    "#optional later runs\n",
    "model.load_state_dict(torch.load('weights/epoch500',map_location=device))\n",
    "\n",
    "optim = Adam(model.parameters(), lr=1e-4)\n",
    "\n",
    "# Binary Cross Entropy, target pixel values either 0 or 1\n",
    "criterion = nn.CrossEntropyLoss()"
   ]
  },
  {
   "cell_type": "code",
   "execution_count": 5,
   "id": "b4d4aeef",
   "metadata": {},
   "outputs": [
    {
     "data": {
      "text/plain": [
       "<All keys matched successfully>"
      ]
     },
     "execution_count": 5,
     "metadata": {},
     "output_type": "execute_result"
    }
   ],
   "source": [
    "vp = SimVP((11,3,160,240)).to(device)\n",
    "vp.load_state_dict(torch.load('weights/SimVP_w',map_location=device))"
   ]
  },
  {
   "cell_type": "code",
   "execution_count": 8,
   "id": "53062f9d",
   "metadata": {},
   "outputs": [],
   "source": [
    "i=0\n",
    "if 'gifs' not in os.listdir():\n",
    "    os.mkdir('gifs')\n",
    "gif_gen(i,train_data_seg,'gifs/'+str(i),model,vp)"
   ]
  },
  {
   "cell_type": "markdown",
   "id": "5cdf7f29",
   "metadata": {},
   "source": [
    "Original video(First 11 frames): ![SegmentLocal](gifs/1_orig.gif \"segment\")\n",
    "Generaed video(Next 11 frames): ![SegmentLocal](gifs/1_simvp.gif \"segment\")\n",
    "Generated video in sequence model: ![SegmentLocal](gifs/1_mod.gif \"segment\")"
   ]
  }
 ],
 "metadata": {
  "colab": {
   "machine_shape": "hm",
   "provenance": []
  },
  "kernelspec": {
   "display_name": "Python 3 (ipykernel)",
   "language": "python",
   "name": "python3"
  },
  "language_info": {
   "codemirror_mode": {
    "name": "ipython",
    "version": 3
   },
   "file_extension": ".py",
   "mimetype": "text/x-python",
   "name": "python",
   "nbconvert_exporter": "python",
   "pygments_lexer": "ipython3",
   "version": "3.11.7"
  },
  "widgets": {
   "application/vnd.jupyter.widget-state+json": {
    "e3082a539e044ac9b45472bae5ebb5fe": {
     "model_module": "@jupyter-widgets/output",
     "model_module_version": "1.0.0",
     "model_name": "OutputModel",
     "state": {
      "_dom_classes": [],
      "_model_module": "@jupyter-widgets/output",
      "_model_module_version": "1.0.0",
      "_model_name": "OutputModel",
      "_view_count": null,
      "_view_module": "@jupyter-widgets/output",
      "_view_module_version": "1.0.0",
      "_view_name": "OutputView",
      "layout": "IPY_MODEL_ee908c5a6bf1466a90fb8d8c02a5592d",
      "msg_id": "",
      "outputs": [
       {
        "data": {
         "text/html": "<pre style=\"white-space:pre;overflow-x:auto;line-height:normal;font-family:Menlo,'DejaVu Sans Mono',consolas,'Courier New',monospace\">Training Batch: 63/63 Loss: 0.00146 IOU: 0.9881                    <span style=\"color: #729c1f; text-decoration-color: #729c1f\">━━━━━━━━━━━━━━━━━━━━━━━━━━━━━━━━</span> <span style=\"color: #808000; text-decoration-color: #808000\">0:00:25</span> <span style=\"color: #008080; text-decoration-color: #008080\">0:00:00</span>\nValidation Batch: 63/63 Loss: 0.72305 IOU: 0.13085                 <span style=\"color: #729c1f; text-decoration-color: #729c1f\">━━━━━━━━━━━━━━━━━━━━━━━━━━━━━━━━</span> <span style=\"color: #808000; text-decoration-color: #808000\">0:04:27</span> <span style=\"color: #008080; text-decoration-color: #008080\">0:00:00</span>\nEpoch: 100 Loss: 0.00118 IOU: 0.98927 VLoss: 0.68539 VIOU: 0.17371 <span style=\"color: #729c1f; text-decoration-color: #729c1f\">━━━━━━━━━━━━━━━━━━━━━━━━━━━━━━━━</span> <span style=\"color: #808000; text-decoration-color: #808000\">0:44:45</span> <span style=\"color: #008080; text-decoration-color: #008080\">0:00:00</span>\n</pre>\n",
         "text/plain": "Training Batch: 63/63 Loss: 0.00146 IOU: 0.9881                    \u001b[38;2;114;156;31m━━━━━━━━━━━━━━━━━━━━━━━━━━━━━━━━\u001b[0m \u001b[33m0:00:25\u001b[0m \u001b[36m0:00:00\u001b[0m\nValidation Batch: 63/63 Loss: 0.72305 IOU: 0.13085                 \u001b[38;2;114;156;31m━━━━━━━━━━━━━━━━━━━━━━━━━━━━━━━━\u001b[0m \u001b[33m0:04:27\u001b[0m \u001b[36m0:00:00\u001b[0m\nEpoch: 100 Loss: 0.00118 IOU: 0.98927 VLoss: 0.68539 VIOU: 0.17371 \u001b[38;2;114;156;31m━━━━━━━━━━━━━━━━━━━━━━━━━━━━━━━━\u001b[0m \u001b[33m0:44:45\u001b[0m \u001b[36m0:00:00\u001b[0m\n"
        },
        "metadata": {},
        "output_type": "display_data"
       }
      ]
     }
    },
    "ee908c5a6bf1466a90fb8d8c02a5592d": {
     "model_module": "@jupyter-widgets/base",
     "model_module_version": "1.2.0",
     "model_name": "LayoutModel",
     "state": {
      "_model_module": "@jupyter-widgets/base",
      "_model_module_version": "1.2.0",
      "_model_name": "LayoutModel",
      "_view_count": null,
      "_view_module": "@jupyter-widgets/base",
      "_view_module_version": "1.2.0",
      "_view_name": "LayoutView",
      "align_content": null,
      "align_items": null,
      "align_self": null,
      "border": null,
      "bottom": null,
      "display": null,
      "flex": null,
      "flex_flow": null,
      "grid_area": null,
      "grid_auto_columns": null,
      "grid_auto_flow": null,
      "grid_auto_rows": null,
      "grid_column": null,
      "grid_gap": null,
      "grid_row": null,
      "grid_template_areas": null,
      "grid_template_columns": null,
      "grid_template_rows": null,
      "height": null,
      "justify_content": null,
      "justify_items": null,
      "left": null,
      "margin": null,
      "max_height": null,
      "max_width": null,
      "min_height": null,
      "min_width": null,
      "object_fit": null,
      "object_position": null,
      "order": null,
      "overflow": null,
      "overflow_x": null,
      "overflow_y": null,
      "padding": null,
      "right": null,
      "top": null,
      "visibility": null,
      "width": null
     }
    }
   }
  }
 },
 "nbformat": 4,
 "nbformat_minor": 5
}
